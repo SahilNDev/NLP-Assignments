{
  "cells": [
    {
      "cell_type": "markdown",
      "metadata": {
        "id": "view-in-github",
        "colab_type": "text"
      },
      "source": [
        "<a href=\"https://colab.research.google.com/github/SahilNDev/NLP-Assignments/blob/main/NLP_Assignment_1_6074.ipynb\" target=\"_parent\"><img src=\"https://colab.research.google.com/assets/colab-badge.svg\" alt=\"Open In Colab\"/></a>"
      ]
    },
    {
      "cell_type": "markdown",
      "metadata": {
        "id": "hfhblzUsvutS"
      },
      "source": [
        "## **Importing all the packages and downloading requirements**"
      ]
    },
    {
      "cell_type": "code",
      "execution_count": 1,
      "metadata": {
        "colab": {
          "base_uri": "https://localhost:8080/",
          "height": 0
        },
        "id": "vVRiOVq2ISye",
        "outputId": "eda199c1-6fac-4055-b0e8-e9507f5316e2"
      },
      "outputs": [
        {
          "output_type": "stream",
          "name": "stderr",
          "text": [
            "[nltk_data] Downloading package punkt to /root/nltk_data...\n",
            "[nltk_data]   Package punkt is already up-to-date!\n",
            "[nltk_data] Downloading package wordnet to /root/nltk_data...\n",
            "[nltk_data]   Package wordnet is already up-to-date!\n",
            "[nltk_data] Downloading package stopwords to /root/nltk_data...\n",
            "[nltk_data]   Package stopwords is already up-to-date!\n"
          ]
        },
        {
          "output_type": "execute_result",
          "data": {
            "text/plain": [
              "True"
            ]
          },
          "metadata": {},
          "execution_count": 1
        }
      ],
      "source": [
        "import pandas as pd\n",
        "import numpy as np\n",
        "from sklearn.feature_extraction.text import CountVectorizer, TfidfVectorizer\n",
        "from sklearn.model_selection import GridSearchCV, train_test_split\n",
        "from sklearn.linear_model import LogisticRegression\n",
        "from sklearn.svm import SVC\n",
        "from sklearn.ensemble import RandomForestClassifier\n",
        "from sklearn.metrics import classification_report\n",
        "import nltk\n",
        "import re\n",
        "import string\n",
        "from nltk.corpus import stopwords\n",
        "from nltk.stem import WordNetLemmatizer\n",
        "from gensim.models import Word2Vec\n",
        "import warnings\n",
        "nltk.download('punkt')\n",
        "warnings.filterwarnings('ignore')\n",
        "nltk.download('wordnet')\n",
        "nltk.download('stopwords')"
      ]
    },
    {
      "cell_type": "markdown",
      "metadata": {
        "id": "Jp2DD-IMvlNo"
      },
      "source": [
        "## **Class with GridSearchCV and all the classifier models**"
      ]
    },
    {
      "cell_type": "code",
      "execution_count": 2,
      "metadata": {
        "id": "OijJdNh421Fg"
      },
      "outputs": [],
      "source": [
        "class Model:\n",
        "  # constructor\n",
        "  def __init__(self, X, y, splitPercent):\n",
        "    self.X_train, self.X_test, self.y_train, self.y_test = train_test_split(X, y, test_size = splitPercent, random_state = 10, stratify = y)\n",
        "    self.lr_best = self.logisticReg()\n",
        "    self.svc_best = self.supportVC()\n",
        "    self.rf_best = self.randomForest()\n",
        "\n",
        "  # gridsearchcv\n",
        "  def gridSearchCV(self, model, params):\n",
        "    gscv = GridSearchCV(model, params, n_jobs = -1, cv = 5, scoring = \"accuracy\")\n",
        "    gscv.fit(self.X_train, self.y_train)\n",
        "    return gscv\n",
        "\n",
        "  # logistic regression\n",
        "  def logisticReg(self):\n",
        "    lr = LogisticRegression()\n",
        "    params = {'penalty': ['l2'], 'C': [0.001,0.01,0.1,1,10,100,1000], 'solver':['newton-cholesky', 'sag', 'saga', 'lbfgs']}\n",
        "    lr_best = self.gridSearchCV(lr, params)\n",
        "    return lr_best\n",
        "\n",
        "  # support vector classifier\n",
        "  def supportVC(self):\n",
        "    svc = SVC()\n",
        "    params = {'C':[1,10,100,1000],'gamma':[1,0.1,0.001,0.0001], 'kernel':['linear','rbf'], \"max_iter\" : [200]}\n",
        "    svc_best = self.gridSearchCV(svc, params)\n",
        "    return svc_best\n",
        "\n",
        "  # random forest classifier\n",
        "  def randomForest(self):\n",
        "    rf = RandomForestClassifier()\n",
        "    params = {\n",
        "                'n_estimators': [200, 500],\n",
        "                'max_features': ['sqrt', 'log2'],\n",
        "                'max_depth' : [4,5,6,7,8],\n",
        "                'criterion' :['gini', 'entropy']\n",
        "              }\n",
        "    rf_best = self.gridSearchCV(rf, params)\n",
        "    return rf_best\n",
        "\n",
        "  # final reports with all the metrics of classification results\n",
        "  def classificationReport(self):\n",
        "    print(\"For Logistic Regression Classifier:\")\n",
        "    print(\"-\"*25)\n",
        "    print(classification_report(self.y_test, self.lr_best.predict(self.X_test)))\n",
        "    print(\"For Support Vector Classifier:\")\n",
        "    print(\"-\"*25)\n",
        "    print(classification_report(self.y_test, self.svc_best.predict(self.X_test)))\n",
        "    print(\"For Random Forest Classifier:\")\n",
        "    print(\"-\"*25)\n",
        "    print(classification_report(self.y_test, self.rf_best.predict(self.X_test)))\n",
        "\n",
        "  # for individual prediction with a single example\n",
        "  def predictResult(self, X):\n",
        "    print(\"Prediction from Logistic Regression Classifier: \", self.lr_best.predict([X])[0])\n",
        "    print(\"Prediction from Support Vector Classifier: \", self.svc_best.predict([X])[0])\n",
        "    print(\"Prediction from Random Forest Classifier: \", self.rf_best.predict([X])[0])"
      ]
    },
    {
      "cell_type": "markdown",
      "metadata": {
        "id": "KLouO6ztwL6u"
      },
      "source": [
        "## **Reading Data**"
      ]
    },
    {
      "cell_type": "code",
      "source": [
        "from google.colab import drive\n",
        "drive.mount('/content/drive')"
      ],
      "metadata": {
        "colab": {
          "base_uri": "https://localhost:8080/",
          "height": 0
        },
        "id": "24GwMnrJlG3M",
        "outputId": "ea953379-1ed1-4095-b862-4c302212f1cf"
      },
      "execution_count": 3,
      "outputs": [
        {
          "output_type": "stream",
          "name": "stdout",
          "text": [
            "Drive already mounted at /content/drive; to attempt to forcibly remount, call drive.mount(\"/content/drive\", force_remount=True).\n"
          ]
        }
      ]
    },
    {
      "cell_type": "code",
      "execution_count": 4,
      "metadata": {
        "colab": {
          "base_uri": "https://localhost:8080/",
          "height": 206
        },
        "id": "UJgafMf-RpjH",
        "outputId": "60205510-b642-4355-f05d-ae5b3b84a86b"
      },
      "outputs": [
        {
          "output_type": "execute_result",
          "data": {
            "text/plain": [
              "                                              review sentiment\n",
              "0  One of the other reviewers has mentioned that ...  positive\n",
              "1  A wonderful little production. <br /><br />The...  positive\n",
              "2  I thought this was a wonderful way to spend ti...  positive\n",
              "3  Basically there's a family where a little boy ...  negative\n",
              "4  Petter Mattei's \"Love in the Time of Money\" is...  positive"
            ],
            "text/html": [
              "\n",
              "  <div id=\"df-003387b3-48fe-4ef9-886c-9d9f90aef0d3\" class=\"colab-df-container\">\n",
              "    <div>\n",
              "<style scoped>\n",
              "    .dataframe tbody tr th:only-of-type {\n",
              "        vertical-align: middle;\n",
              "    }\n",
              "\n",
              "    .dataframe tbody tr th {\n",
              "        vertical-align: top;\n",
              "    }\n",
              "\n",
              "    .dataframe thead th {\n",
              "        text-align: right;\n",
              "    }\n",
              "</style>\n",
              "<table border=\"1\" class=\"dataframe\">\n",
              "  <thead>\n",
              "    <tr style=\"text-align: right;\">\n",
              "      <th></th>\n",
              "      <th>review</th>\n",
              "      <th>sentiment</th>\n",
              "    </tr>\n",
              "  </thead>\n",
              "  <tbody>\n",
              "    <tr>\n",
              "      <th>0</th>\n",
              "      <td>One of the other reviewers has mentioned that ...</td>\n",
              "      <td>positive</td>\n",
              "    </tr>\n",
              "    <tr>\n",
              "      <th>1</th>\n",
              "      <td>A wonderful little production. &lt;br /&gt;&lt;br /&gt;The...</td>\n",
              "      <td>positive</td>\n",
              "    </tr>\n",
              "    <tr>\n",
              "      <th>2</th>\n",
              "      <td>I thought this was a wonderful way to spend ti...</td>\n",
              "      <td>positive</td>\n",
              "    </tr>\n",
              "    <tr>\n",
              "      <th>3</th>\n",
              "      <td>Basically there's a family where a little boy ...</td>\n",
              "      <td>negative</td>\n",
              "    </tr>\n",
              "    <tr>\n",
              "      <th>4</th>\n",
              "      <td>Petter Mattei's \"Love in the Time of Money\" is...</td>\n",
              "      <td>positive</td>\n",
              "    </tr>\n",
              "  </tbody>\n",
              "</table>\n",
              "</div>\n",
              "    <div class=\"colab-df-buttons\">\n",
              "\n",
              "  <div class=\"colab-df-container\">\n",
              "    <button class=\"colab-df-convert\" onclick=\"convertToInteractive('df-003387b3-48fe-4ef9-886c-9d9f90aef0d3')\"\n",
              "            title=\"Convert this dataframe to an interactive table.\"\n",
              "            style=\"display:none;\">\n",
              "\n",
              "  <svg xmlns=\"http://www.w3.org/2000/svg\" height=\"24px\" viewBox=\"0 -960 960 960\">\n",
              "    <path d=\"M120-120v-720h720v720H120Zm60-500h600v-160H180v160Zm220 220h160v-160H400v160Zm0 220h160v-160H400v160ZM180-400h160v-160H180v160Zm440 0h160v-160H620v160ZM180-180h160v-160H180v160Zm440 0h160v-160H620v160Z\"/>\n",
              "  </svg>\n",
              "    </button>\n",
              "\n",
              "  <style>\n",
              "    .colab-df-container {\n",
              "      display:flex;\n",
              "      gap: 12px;\n",
              "    }\n",
              "\n",
              "    .colab-df-convert {\n",
              "      background-color: #E8F0FE;\n",
              "      border: none;\n",
              "      border-radius: 50%;\n",
              "      cursor: pointer;\n",
              "      display: none;\n",
              "      fill: #1967D2;\n",
              "      height: 32px;\n",
              "      padding: 0 0 0 0;\n",
              "      width: 32px;\n",
              "    }\n",
              "\n",
              "    .colab-df-convert:hover {\n",
              "      background-color: #E2EBFA;\n",
              "      box-shadow: 0px 1px 2px rgba(60, 64, 67, 0.3), 0px 1px 3px 1px rgba(60, 64, 67, 0.15);\n",
              "      fill: #174EA6;\n",
              "    }\n",
              "\n",
              "    .colab-df-buttons div {\n",
              "      margin-bottom: 4px;\n",
              "    }\n",
              "\n",
              "    [theme=dark] .colab-df-convert {\n",
              "      background-color: #3B4455;\n",
              "      fill: #D2E3FC;\n",
              "    }\n",
              "\n",
              "    [theme=dark] .colab-df-convert:hover {\n",
              "      background-color: #434B5C;\n",
              "      box-shadow: 0px 1px 3px 1px rgba(0, 0, 0, 0.15);\n",
              "      filter: drop-shadow(0px 1px 2px rgba(0, 0, 0, 0.3));\n",
              "      fill: #FFFFFF;\n",
              "    }\n",
              "  </style>\n",
              "\n",
              "    <script>\n",
              "      const buttonEl =\n",
              "        document.querySelector('#df-003387b3-48fe-4ef9-886c-9d9f90aef0d3 button.colab-df-convert');\n",
              "      buttonEl.style.display =\n",
              "        google.colab.kernel.accessAllowed ? 'block' : 'none';\n",
              "\n",
              "      async function convertToInteractive(key) {\n",
              "        const element = document.querySelector('#df-003387b3-48fe-4ef9-886c-9d9f90aef0d3');\n",
              "        const dataTable =\n",
              "          await google.colab.kernel.invokeFunction('convertToInteractive',\n",
              "                                                    [key], {});\n",
              "        if (!dataTable) return;\n",
              "\n",
              "        const docLinkHtml = 'Like what you see? Visit the ' +\n",
              "          '<a target=\"_blank\" href=https://colab.research.google.com/notebooks/data_table.ipynb>data table notebook</a>'\n",
              "          + ' to learn more about interactive tables.';\n",
              "        element.innerHTML = '';\n",
              "        dataTable['output_type'] = 'display_data';\n",
              "        await google.colab.output.renderOutput(dataTable, element);\n",
              "        const docLink = document.createElement('div');\n",
              "        docLink.innerHTML = docLinkHtml;\n",
              "        element.appendChild(docLink);\n",
              "      }\n",
              "    </script>\n",
              "  </div>\n",
              "\n",
              "\n",
              "<div id=\"df-1cf3772c-2ca6-4a2c-adfe-dbd865ed5015\">\n",
              "  <button class=\"colab-df-quickchart\" onclick=\"quickchart('df-1cf3772c-2ca6-4a2c-adfe-dbd865ed5015')\"\n",
              "            title=\"Suggest charts.\"\n",
              "            style=\"display:none;\">\n",
              "\n",
              "<svg xmlns=\"http://www.w3.org/2000/svg\" height=\"24px\"viewBox=\"0 0 24 24\"\n",
              "     width=\"24px\">\n",
              "    <g>\n",
              "        <path d=\"M19 3H5c-1.1 0-2 .9-2 2v14c0 1.1.9 2 2 2h14c1.1 0 2-.9 2-2V5c0-1.1-.9-2-2-2zM9 17H7v-7h2v7zm4 0h-2V7h2v10zm4 0h-2v-4h2v4z\"/>\n",
              "    </g>\n",
              "</svg>\n",
              "  </button>\n",
              "\n",
              "<style>\n",
              "  .colab-df-quickchart {\n",
              "    background-color: #E8F0FE;\n",
              "    border: none;\n",
              "    border-radius: 50%;\n",
              "    cursor: pointer;\n",
              "    display: none;\n",
              "    fill: #1967D2;\n",
              "    height: 32px;\n",
              "    padding: 0 0 0 0;\n",
              "    width: 32px;\n",
              "  }\n",
              "\n",
              "  .colab-df-quickchart:hover {\n",
              "    background-color: #E2EBFA;\n",
              "    box-shadow: 0px 1px 2px rgba(60, 64, 67, 0.3), 0px 1px 3px 1px rgba(60, 64, 67, 0.15);\n",
              "    fill: #174EA6;\n",
              "  }\n",
              "\n",
              "  [theme=dark] .colab-df-quickchart {\n",
              "    background-color: #3B4455;\n",
              "    fill: #D2E3FC;\n",
              "  }\n",
              "\n",
              "  [theme=dark] .colab-df-quickchart:hover {\n",
              "    background-color: #434B5C;\n",
              "    box-shadow: 0px 1px 3px 1px rgba(0, 0, 0, 0.15);\n",
              "    filter: drop-shadow(0px 1px 2px rgba(0, 0, 0, 0.3));\n",
              "    fill: #FFFFFF;\n",
              "  }\n",
              "</style>\n",
              "\n",
              "  <script>\n",
              "    async function quickchart(key) {\n",
              "      const charts = await google.colab.kernel.invokeFunction(\n",
              "          'suggestCharts', [key], {});\n",
              "    }\n",
              "    (() => {\n",
              "      let quickchartButtonEl =\n",
              "        document.querySelector('#df-1cf3772c-2ca6-4a2c-adfe-dbd865ed5015 button');\n",
              "      quickchartButtonEl.style.display =\n",
              "        google.colab.kernel.accessAllowed ? 'block' : 'none';\n",
              "    })();\n",
              "  </script>\n",
              "</div>\n",
              "    </div>\n",
              "  </div>\n"
            ]
          },
          "metadata": {},
          "execution_count": 4
        }
      ],
      "source": [
        "# reading data\n",
        "df = pd.read_csv(\"/content/drive/MyDrive/IMDB Dataset.csv\")\n",
        "df.head()"
      ]
    },
    {
      "cell_type": "code",
      "execution_count": 5,
      "metadata": {
        "colab": {
          "base_uri": "https://localhost:8080/",
          "height": 0
        },
        "id": "cS0n513zR2eI",
        "outputId": "a085b85d-3056-41d4-a654-9c2fcdeb95ed"
      },
      "outputs": [
        {
          "output_type": "execute_result",
          "data": {
            "text/plain": [
              "(50000, 2)"
            ]
          },
          "metadata": {},
          "execution_count": 5
        }
      ],
      "source": [
        "df.shape"
      ]
    },
    {
      "cell_type": "code",
      "execution_count": 6,
      "metadata": {
        "colab": {
          "base_uri": "https://localhost:8080/",
          "height": 0
        },
        "id": "CjV7gklmSaZx",
        "outputId": "2bf2c6d4-9489-4283-ef6a-a3d3ba663c71"
      },
      "outputs": [
        {
          "output_type": "execute_result",
          "data": {
            "text/plain": [
              "Index(['review', 'sentiment'], dtype='object')"
            ]
          },
          "metadata": {},
          "execution_count": 6
        }
      ],
      "source": [
        "df.columns"
      ]
    },
    {
      "cell_type": "code",
      "execution_count": 7,
      "metadata": {
        "colab": {
          "base_uri": "https://localhost:8080/",
          "height": 206
        },
        "id": "r-5ZoxDOS5PA",
        "outputId": "da10e888-f389-4218-8487-eeb17065c9da"
      },
      "outputs": [
        {
          "output_type": "execute_result",
          "data": {
            "text/plain": [
              "                                              review sentiment\n",
              "0  One of the other reviewers has mentioned that ...  positive\n",
              "1  A wonderful little production. <br /><br />The...  positive\n",
              "2  I thought this was a wonderful way to spend ti...  positive\n",
              "3  Basically there's a family where a little boy ...  negative\n",
              "4  Petter Mattei's \"Love in the Time of Money\" is...  positive"
            ],
            "text/html": [
              "\n",
              "  <div id=\"df-66f76134-385a-42ea-a865-daad981e6243\" class=\"colab-df-container\">\n",
              "    <div>\n",
              "<style scoped>\n",
              "    .dataframe tbody tr th:only-of-type {\n",
              "        vertical-align: middle;\n",
              "    }\n",
              "\n",
              "    .dataframe tbody tr th {\n",
              "        vertical-align: top;\n",
              "    }\n",
              "\n",
              "    .dataframe thead th {\n",
              "        text-align: right;\n",
              "    }\n",
              "</style>\n",
              "<table border=\"1\" class=\"dataframe\">\n",
              "  <thead>\n",
              "    <tr style=\"text-align: right;\">\n",
              "      <th></th>\n",
              "      <th>review</th>\n",
              "      <th>sentiment</th>\n",
              "    </tr>\n",
              "  </thead>\n",
              "  <tbody>\n",
              "    <tr>\n",
              "      <th>0</th>\n",
              "      <td>One of the other reviewers has mentioned that ...</td>\n",
              "      <td>positive</td>\n",
              "    </tr>\n",
              "    <tr>\n",
              "      <th>1</th>\n",
              "      <td>A wonderful little production. &lt;br /&gt;&lt;br /&gt;The...</td>\n",
              "      <td>positive</td>\n",
              "    </tr>\n",
              "    <tr>\n",
              "      <th>2</th>\n",
              "      <td>I thought this was a wonderful way to spend ti...</td>\n",
              "      <td>positive</td>\n",
              "    </tr>\n",
              "    <tr>\n",
              "      <th>3</th>\n",
              "      <td>Basically there's a family where a little boy ...</td>\n",
              "      <td>negative</td>\n",
              "    </tr>\n",
              "    <tr>\n",
              "      <th>4</th>\n",
              "      <td>Petter Mattei's \"Love in the Time of Money\" is...</td>\n",
              "      <td>positive</td>\n",
              "    </tr>\n",
              "  </tbody>\n",
              "</table>\n",
              "</div>\n",
              "    <div class=\"colab-df-buttons\">\n",
              "\n",
              "  <div class=\"colab-df-container\">\n",
              "    <button class=\"colab-df-convert\" onclick=\"convertToInteractive('df-66f76134-385a-42ea-a865-daad981e6243')\"\n",
              "            title=\"Convert this dataframe to an interactive table.\"\n",
              "            style=\"display:none;\">\n",
              "\n",
              "  <svg xmlns=\"http://www.w3.org/2000/svg\" height=\"24px\" viewBox=\"0 -960 960 960\">\n",
              "    <path d=\"M120-120v-720h720v720H120Zm60-500h600v-160H180v160Zm220 220h160v-160H400v160Zm0 220h160v-160H400v160ZM180-400h160v-160H180v160Zm440 0h160v-160H620v160ZM180-180h160v-160H180v160Zm440 0h160v-160H620v160Z\"/>\n",
              "  </svg>\n",
              "    </button>\n",
              "\n",
              "  <style>\n",
              "    .colab-df-container {\n",
              "      display:flex;\n",
              "      gap: 12px;\n",
              "    }\n",
              "\n",
              "    .colab-df-convert {\n",
              "      background-color: #E8F0FE;\n",
              "      border: none;\n",
              "      border-radius: 50%;\n",
              "      cursor: pointer;\n",
              "      display: none;\n",
              "      fill: #1967D2;\n",
              "      height: 32px;\n",
              "      padding: 0 0 0 0;\n",
              "      width: 32px;\n",
              "    }\n",
              "\n",
              "    .colab-df-convert:hover {\n",
              "      background-color: #E2EBFA;\n",
              "      box-shadow: 0px 1px 2px rgba(60, 64, 67, 0.3), 0px 1px 3px 1px rgba(60, 64, 67, 0.15);\n",
              "      fill: #174EA6;\n",
              "    }\n",
              "\n",
              "    .colab-df-buttons div {\n",
              "      margin-bottom: 4px;\n",
              "    }\n",
              "\n",
              "    [theme=dark] .colab-df-convert {\n",
              "      background-color: #3B4455;\n",
              "      fill: #D2E3FC;\n",
              "    }\n",
              "\n",
              "    [theme=dark] .colab-df-convert:hover {\n",
              "      background-color: #434B5C;\n",
              "      box-shadow: 0px 1px 3px 1px rgba(0, 0, 0, 0.15);\n",
              "      filter: drop-shadow(0px 1px 2px rgba(0, 0, 0, 0.3));\n",
              "      fill: #FFFFFF;\n",
              "    }\n",
              "  </style>\n",
              "\n",
              "    <script>\n",
              "      const buttonEl =\n",
              "        document.querySelector('#df-66f76134-385a-42ea-a865-daad981e6243 button.colab-df-convert');\n",
              "      buttonEl.style.display =\n",
              "        google.colab.kernel.accessAllowed ? 'block' : 'none';\n",
              "\n",
              "      async function convertToInteractive(key) {\n",
              "        const element = document.querySelector('#df-66f76134-385a-42ea-a865-daad981e6243');\n",
              "        const dataTable =\n",
              "          await google.colab.kernel.invokeFunction('convertToInteractive',\n",
              "                                                    [key], {});\n",
              "        if (!dataTable) return;\n",
              "\n",
              "        const docLinkHtml = 'Like what you see? Visit the ' +\n",
              "          '<a target=\"_blank\" href=https://colab.research.google.com/notebooks/data_table.ipynb>data table notebook</a>'\n",
              "          + ' to learn more about interactive tables.';\n",
              "        element.innerHTML = '';\n",
              "        dataTable['output_type'] = 'display_data';\n",
              "        await google.colab.output.renderOutput(dataTable, element);\n",
              "        const docLink = document.createElement('div');\n",
              "        docLink.innerHTML = docLinkHtml;\n",
              "        element.appendChild(docLink);\n",
              "      }\n",
              "    </script>\n",
              "  </div>\n",
              "\n",
              "\n",
              "<div id=\"df-ab4fb8a3-7812-4350-bf5e-437075375c6b\">\n",
              "  <button class=\"colab-df-quickchart\" onclick=\"quickchart('df-ab4fb8a3-7812-4350-bf5e-437075375c6b')\"\n",
              "            title=\"Suggest charts.\"\n",
              "            style=\"display:none;\">\n",
              "\n",
              "<svg xmlns=\"http://www.w3.org/2000/svg\" height=\"24px\"viewBox=\"0 0 24 24\"\n",
              "     width=\"24px\">\n",
              "    <g>\n",
              "        <path d=\"M19 3H5c-1.1 0-2 .9-2 2v14c0 1.1.9 2 2 2h14c1.1 0 2-.9 2-2V5c0-1.1-.9-2-2-2zM9 17H7v-7h2v7zm4 0h-2V7h2v10zm4 0h-2v-4h2v4z\"/>\n",
              "    </g>\n",
              "</svg>\n",
              "  </button>\n",
              "\n",
              "<style>\n",
              "  .colab-df-quickchart {\n",
              "    background-color: #E8F0FE;\n",
              "    border: none;\n",
              "    border-radius: 50%;\n",
              "    cursor: pointer;\n",
              "    display: none;\n",
              "    fill: #1967D2;\n",
              "    height: 32px;\n",
              "    padding: 0 0 0 0;\n",
              "    width: 32px;\n",
              "  }\n",
              "\n",
              "  .colab-df-quickchart:hover {\n",
              "    background-color: #E2EBFA;\n",
              "    box-shadow: 0px 1px 2px rgba(60, 64, 67, 0.3), 0px 1px 3px 1px rgba(60, 64, 67, 0.15);\n",
              "    fill: #174EA6;\n",
              "  }\n",
              "\n",
              "  [theme=dark] .colab-df-quickchart {\n",
              "    background-color: #3B4455;\n",
              "    fill: #D2E3FC;\n",
              "  }\n",
              "\n",
              "  [theme=dark] .colab-df-quickchart:hover {\n",
              "    background-color: #434B5C;\n",
              "    box-shadow: 0px 1px 3px 1px rgba(0, 0, 0, 0.15);\n",
              "    filter: drop-shadow(0px 1px 2px rgba(0, 0, 0, 0.3));\n",
              "    fill: #FFFFFF;\n",
              "  }\n",
              "</style>\n",
              "\n",
              "  <script>\n",
              "    async function quickchart(key) {\n",
              "      const charts = await google.colab.kernel.invokeFunction(\n",
              "          'suggestCharts', [key], {});\n",
              "    }\n",
              "    (() => {\n",
              "      let quickchartButtonEl =\n",
              "        document.querySelector('#df-ab4fb8a3-7812-4350-bf5e-437075375c6b button');\n",
              "      quickchartButtonEl.style.display =\n",
              "        google.colab.kernel.accessAllowed ? 'block' : 'none';\n",
              "    })();\n",
              "  </script>\n",
              "</div>\n",
              "    </div>\n",
              "  </div>\n"
            ]
          },
          "metadata": {},
          "execution_count": 7
        }
      ],
      "source": [
        "df.head()"
      ]
    },
    {
      "cell_type": "code",
      "execution_count": 8,
      "metadata": {
        "colab": {
          "base_uri": "https://localhost:8080/",
          "height": 0
        },
        "id": "vyxLEufwS7hN",
        "outputId": "8b4ac9bf-1490-44a3-d4da-c5b5b58e55ec"
      },
      "outputs": [
        {
          "output_type": "execute_result",
          "data": {
            "text/plain": [
              "review       0\n",
              "sentiment    0\n",
              "dtype: int64"
            ]
          },
          "metadata": {},
          "execution_count": 8
        }
      ],
      "source": [
        "df.isnull().sum()"
      ]
    },
    {
      "cell_type": "code",
      "execution_count": 9,
      "metadata": {
        "id": "yxK0NhBFS9DR"
      },
      "outputs": [],
      "source": [
        "# removing null values\n",
        "df.dropna(inplace = True)"
      ]
    },
    {
      "cell_type": "code",
      "execution_count": 10,
      "metadata": {
        "colab": {
          "base_uri": "https://localhost:8080/",
          "height": 0
        },
        "id": "SyryR5pETBO0",
        "outputId": "7583b5a9-d171-4c9d-84b6-b5e023968383"
      },
      "outputs": [
        {
          "output_type": "execute_result",
          "data": {
            "text/plain": [
              "review       0\n",
              "sentiment    0\n",
              "dtype: int64"
            ]
          },
          "metadata": {},
          "execution_count": 10
        }
      ],
      "source": [
        "df.isnull().sum()"
      ]
    },
    {
      "cell_type": "code",
      "execution_count": 11,
      "metadata": {
        "colab": {
          "base_uri": "https://localhost:8080/",
          "height": 0
        },
        "id": "69vy6N3NTDTa",
        "outputId": "c283042b-cd6c-4986-e714-57d5d1865eb8"
      },
      "outputs": [
        {
          "output_type": "execute_result",
          "data": {
            "text/plain": [
              "(50000, 2)"
            ]
          },
          "metadata": {},
          "execution_count": 11
        }
      ],
      "source": [
        "df.shape"
      ]
    },
    {
      "cell_type": "code",
      "execution_count": 12,
      "metadata": {
        "colab": {
          "base_uri": "https://localhost:8080/",
          "height": 447
        },
        "id": "voZGc4URTEKi",
        "outputId": "999f37a7-76be-4fc8-b5f1-55bd00c71f6c"
      },
      "outputs": [
        {
          "output_type": "execute_result",
          "data": {
            "text/plain": [
              "<Axes: >"
            ]
          },
          "metadata": {},
          "execution_count": 12
        },
        {
          "output_type": "display_data",
          "data": {
            "text/plain": [
              "<Figure size 640x480 with 1 Axes>"
            ],
            "image/png": "[encoded data removed]"
          },
          "metadata": {}
        }
      ],
      "source": [
        "# visualizing balance of classes\n",
        "df.sentiment.value_counts().plot(kind = \"barh\")"
      ]
    },
    {
      "cell_type": "code",
      "execution_count": 13,
      "metadata": {
        "colab": {
          "base_uri": "https://localhost:8080/",
          "height": 0
        },
        "id": "tzL8G_GETGfk",
        "outputId": "6f361f70-fc28-4fc8-d41a-82931499e63b"
      },
      "outputs": [
        {
          "output_type": "execute_result",
          "data": {
            "text/plain": [
              "49582"
            ]
          },
          "metadata": {},
          "execution_count": 13
        }
      ],
      "source": [
        "df.review.nunique()"
      ]
    },
    {
      "cell_type": "markdown",
      "metadata": {
        "id": "NWFzUHBkWO0D"
      },
      "source": [
        "# **Goal: From \"Title\" predict \"Label\" i.e 0-Fake, 1-Real**"
      ]
    },
    {
      "cell_type": "markdown",
      "metadata": {
        "id": "6wsdhJfOWpw7"
      },
      "source": [
        "## Cleaning and Preprocessing"
      ]
    },
    {
      "cell_type": "code",
      "execution_count": 14,
      "metadata": {
        "id": "dYmBy9nfWc1A"
      },
      "outputs": [],
      "source": [
        "# lowering all the text along with stripping spaces from beginning and end of sentences\n",
        "df.review = df.review.apply(lambda x: x.lower().strip())"
      ]
    },
    {
      "cell_type": "code",
      "execution_count": 15,
      "metadata": {
        "id": "yZgtebWVSrzs"
      },
      "outputs": [],
      "source": [
        "# remove duplicates/ for every duplicate we will keep only one row of that type.\n",
        "df.drop_duplicates(keep='first',inplace=True)"
      ]
    },
    {
      "cell_type": "code",
      "execution_count": 16,
      "metadata": {
        "id": "JhIkj-dcYcDm"
      },
      "outputs": [],
      "source": [
        "# removing digits\n",
        "df.review = df.review.apply(lambda x: re.sub(r\"\\d+\\w*\", \"\", x))"
      ]
    },
    {
      "cell_type": "code",
      "execution_count": 17,
      "metadata": {
        "id": "2CbajYyRYpWh"
      },
      "outputs": [],
      "source": [
        "# function for removing punctuations, stowords and lemamtizing the words\n",
        "lemmatizer = WordNetLemmatizer()\n",
        "def rem_punc_stopwords(text):\n",
        "  # removes punctuations\n",
        "  nonpunc = [char for char in text if char not in string.punctuation]\n",
        "  nonpunc_text = \"\".join(nonpunc)\n",
        "  # removing stopwords and lemmatizing\n",
        "  nonsw = [lemmatizer.lemmatize(word) for word in nonpunc_text.split() if word not in stopwords.words('english')]\n",
        "  return \" \".join(nonsw)"
      ]
    },
    {
      "cell_type": "code",
      "execution_count": 18,
      "metadata": {
        "id": "cFAr1LagaMOY"
      },
      "outputs": [],
      "source": [
        "# cleaning the remaining punctuations and filler words\n",
        "df.review = df.review.apply(lambda x: re.sub(r\"\\[\\w*\\]\", \"\", x))\n",
        "# removing hashtags\n",
        "df.review = df.review.apply(lambda x: re.sub(r\"\\w*#\\w+\", \"\", x))"
      ]
    },
    {
      "cell_type": "code",
      "execution_count": null,
      "metadata": {
        "id": "RIjwJItbcwas"
      },
      "outputs": [],
      "source": [
        "# removing punctuations, stowords and lemamtizing the words\n",
        "df.review = df.review.apply(lambda x: rem_punc_stopwords(x))"
      ]
    },
    {
      "cell_type": "code",
      "execution_count": null,
      "metadata": {
        "id": "vC9dT7nHfFHN"
      },
      "outputs": [],
      "source": [
        "# cleaning the remaining punctuations and filler words\n",
        "df.review = df.review.apply(lambda x: re.sub(r\"’|“|”|…|‘|€|–\", \"\", x))"
      ]
    },
    {
      "cell_type": "code",
      "execution_count": null,
      "metadata": {
        "id": "7bLJDd-8hsPr"
      },
      "outputs": [],
      "source": [
        "# removing filler words\n",
        "df.review = df.review.apply(lambda x: re.sub(\"huh\", \"\", x))\n",
        "\n",
        "# function to remove one character word\n",
        "def remove_one_char_word(text):\n",
        "  return \" \".join(word for word in text.split() if len(word)>1)\n",
        "\n",
        "df.review = df.review.apply(lambda x: remove_one_char_word(x))"
      ]
    },
    {
      "cell_type": "markdown",
      "metadata": {
        "id": "ZhZWH9qSiOIL"
      },
      "source": [
        "# **Vectorization**"
      ]
    },
    {
      "cell_type": "code",
      "execution_count": null,
      "metadata": {
        "id": "CUIJAFN7qg0L"
      },
      "outputs": [],
      "source": [
        "# for experiment\n",
        "df_new = df.iloc[:50]"
      ]
    },
    {
      "cell_type": "code",
      "execution_count": null,
      "metadata": {
        "id": "ifby62FlidVN"
      },
      "outputs": [],
      "source": [
        "# splitting in X and y\n",
        "X = df.review\n",
        "y = df.sentiment"
      ]
    },
    {
      "cell_type": "markdown",
      "metadata": {
        "id": "8CMf2hJImQPE"
      },
      "source": [
        "## **CountVectorizer**"
      ]
    },
    {
      "cell_type": "code",
      "execution_count": null,
      "metadata": {
        "id": "EoPSj_oBjpc0"
      },
      "outputs": [],
      "source": [
        "# count vectorizer in action\n",
        "cv = CountVectorizer()\n",
        "X_mat = cv.fit_transform(X)"
      ]
    },
    {
      "cell_type": "code",
      "execution_count": null,
      "metadata": {
        "id": "NhgYIpGQx4gl"
      },
      "outputs": [],
      "source": [
        "# Doing splitting outside the class to test for any error\n",
        "X_train, X_test, y_train, y_test = train_test_split(X_mat.toarray(), y, test_size = 0.3, random_state = 10, stratify = y)"
      ]
    },
    {
      "cell_type": "code",
      "execution_count": null,
      "metadata": {
        "id": "feFRIFGfx13_"
      },
      "outputs": [],
      "source": [
        "lr = LogisticRegression()\n",
        "lr.fit(X_train, y_train)\n",
        "classification_report(lr.predict(X_test), y_test)"
      ]
    },
    {
      "cell_type": "code",
      "execution_count": null,
      "metadata": {
        "id": "JSf5NJYvmjuY"
      },
      "outputs": [],
      "source": [
        "# final classification\n",
        "# classifier = Model(X_mat.toarray(), y, 0.3)\n",
        "# classifier.classificationReport()"
      ]
    },
    {
      "cell_type": "markdown",
      "metadata": {
        "id": "R5ZEEZNgP_YC"
      },
      "source": [
        "# **TfidfVectorizer**"
      ]
    },
    {
      "cell_type": "code",
      "execution_count": null,
      "metadata": {
        "id": "SToCbr-iQBmi"
      },
      "outputs": [],
      "source": [
        "# term frequency inverse document frequency in action\n",
        "tfidf = TfidfVectorizer()\n",
        "X_mat_tfidf = tfidf.fit_transform(X)"
      ]
    },
    {
      "cell_type": "code",
      "execution_count": null,
      "metadata": {
        "id": "94mwxGyOQIY_"
      },
      "outputs": [],
      "source": [
        "X_train, X_test, y_train, y_test = train_test_split(X_mat_tfidf.toarray(), y, test_size = 0.3, random_state = 10, stratify = y)"
      ]
    },
    {
      "cell_type": "code",
      "execution_count": null,
      "metadata": {
        "id": "Pk5dtxTzRX_D"
      },
      "outputs": [],
      "source": [
        "lr = LogisticRegression()\n",
        "lr.fit(X_train, y_train)"
      ]
    },
    {
      "cell_type": "code",
      "execution_count": null,
      "metadata": {
        "id": "i7DUMQOcRaPT"
      },
      "outputs": [],
      "source": [
        "# final classification\n",
        "# classifier = Model(X_mat_tfidf.toarray(), y, 0.3)\n",
        "# classifier.classificationReport()"
      ]
    },
    {
      "cell_type": "markdown",
      "metadata": {
        "id": "MY7wOwzuRe-r"
      },
      "source": [
        "# **Word2Vec**"
      ]
    },
    {
      "cell_type": "code",
      "execution_count": null,
      "metadata": {
        "id": "V8rHpf3ynU8A"
      },
      "outputs": [],
      "source": [
        "# tokenizing each sentences\n",
        "X_tokens = X.apply(lambda x: nltk.tokenize.word_tokenize(x))"
      ]
    },
    {
      "cell_type": "code",
      "execution_count": null,
      "metadata": {
        "id": "mx_FI5U2R8mo"
      },
      "outputs": [],
      "source": [
        "# fitting the data to the models for embeddings\n",
        "model = Word2Vec(X_tokens, window=5, min_count=2, workers=4)"
      ]
    },
    {
      "cell_type": "code",
      "execution_count": null,
      "metadata": {
        "id": "cvVFmjgNq5tb"
      },
      "outputs": [],
      "source": [
        "# model.train(X_tokens, epochs = 10, total_examples = len(X_tokens))"
      ]
    },
    {
      "cell_type": "code",
      "execution_count": null,
      "metadata": {
        "id": "6bT0sksDmvaU"
      },
      "outputs": [],
      "source": [
        "# saving the embeddings\n",
        "# model.save(\"word2vec.model\")"
      ]
    },
    {
      "cell_type": "code",
      "execution_count": null,
      "metadata": {
        "id": "fEcgOWSboUq8"
      },
      "outputs": [],
      "source": [
        "# function to extract embeddings of each sentence\n",
        "def get_embedding(text, model):\n",
        "    embeddings = []\n",
        "    for word in text:\n",
        "        if word in model.wv:\n",
        "            embeddings.append(model.wv[word])\n",
        "    if len(embeddings) > 0:\n",
        "        return np.mean(embeddings, axis=0)\n",
        "    else:\n",
        "        return np.zeros(model.vector_size)"
      ]
    },
    {
      "cell_type": "code",
      "execution_count": null,
      "metadata": {
        "id": "p1i15J5Homr1"
      },
      "outputs": [],
      "source": [
        "# final emebddings of each sentence\n",
        "X_final = X_tokens.apply(lambda x: get_embedding(x, model))"
      ]
    },
    {
      "cell_type": "code",
      "execution_count": null,
      "metadata": {
        "id": "3ege4Jwyrr-x"
      },
      "outputs": [],
      "source": [
        "# CLassificaiton with logistic regression\n",
        "X_train, X_test, y_train, y_test = train_test_split(X_final.tolist(), y, test_size = 0.3, random_state =0, stratify = y)\n",
        "lr_wv = LogisticRegression()\n",
        "lr_wv.fit(X_train, y_train)\n",
        "print(classification_report(y_test, lr_wv.predict(X_test)))"
      ]
    },
    {
      "cell_type": "code",
      "execution_count": null,
      "metadata": {
        "id": "IBcpTfktuOpT"
      },
      "outputs": [],
      "source": [
        "# classificaiton with support vector classifier\n",
        "svc_wv = SVC()\n",
        "svc_wv.fit(X_train, y_train)\n",
        "print(classification_report(y_test, svc_wv.predict(X_test)))"
      ]
    },
    {
      "cell_type": "code",
      "execution_count": null,
      "metadata": {
        "id": "DxNi8SkguYWX"
      },
      "outputs": [],
      "source": [
        "# classification with random forest classifier\n",
        "rf_wv = RandomForestClassifier()\n",
        "rf_wv.fit(X_train, y_train)\n",
        "print(classification_report(y_test, rf_wv.predict(X_test)))"
      ]
    },
    {
      "cell_type": "code",
      "execution_count": null,
      "metadata": {
        "id": "3cWc0iqkow9h"
      },
      "outputs": [],
      "source": [
        "# final classification\n",
        "# classifier = Model(X_final.tolist(), y, 0.3)\n",
        "# classifier.classificationReport()"
      ]
    },
    {
      "cell_type": "markdown",
      "metadata": {
        "id": "gB3pHZ1spDM4"
      },
      "source": [
        "# **Google News Word2Vec**"
      ]
    },
    {
      "cell_type": "code",
      "execution_count": null,
      "metadata": {
        "id": "6tw9nCLipCUK"
      },
      "outputs": [],
      "source": [
        "# importing library to downlado pretrained model\n",
        "import gensim.downloader"
      ]
    },
    {
      "cell_type": "code",
      "execution_count": null,
      "metadata": {
        "id": "CJzsKNk8pNPG"
      },
      "outputs": [],
      "source": [
        "list(gensim.downloader.info()['models'].keys())"
      ]
    },
    {
      "cell_type": "code",
      "execution_count": null,
      "metadata": {
        "id": "LRvUzjGwpRJD"
      },
      "outputs": [],
      "source": [
        "# Downlaoding the model needed\n",
        "word2vec = gensim.downloader.load('word2vec-google-news-300')"
      ]
    },
    {
      "cell_type": "code",
      "execution_count": null,
      "metadata": {
        "id": "vDQM_aHupoW5"
      },
      "outputs": [],
      "source": [
        "# training for our data\n",
        "word2vec.train(X_tokens, epochs = 10, total_examples = len(X_tokens))"
      ]
    },
    {
      "cell_type": "code",
      "execution_count": null,
      "metadata": {
        "id": "RLEgZ3TJuta9"
      },
      "outputs": [],
      "source": [
        "# Generating embeddings\n",
        "X_embeddings = X_tokens.apply(lambda x: get_embedding(x, word2vec))\n",
        "X_ready = X_embeddings.tolist()"
      ]
    },
    {
      "cell_type": "code",
      "execution_count": null,
      "metadata": {
        "id": "UVvD00otu9-d"
      },
      "outputs": [],
      "source": [
        "# Logistic Regression Classification\n",
        "X_train, X_test, y_train, y_test = train_test_split(X_ready, y, test_size = 0.3, random_state =0, stratify = y)\n",
        "lr_wv = LogisticRegression()\n",
        "lr_wv.fit(X_train, y_train)\n",
        "print(classification_report(y_test, lr_wv.predict(X_test)))"
      ]
    },
    {
      "cell_type": "code",
      "execution_count": null,
      "metadata": {
        "id": "sJtBHy-PvE7h"
      },
      "outputs": [],
      "source": [
        "# Support Vecto Classifier Classification\n",
        "svc_wv = SVC()\n",
        "svc_wv.fit(X_train, y_train)\n",
        "print(classification_report(y_test, svc_wv.predict(X_test)))"
      ]
    },
    {
      "cell_type": "code",
      "execution_count": null,
      "metadata": {
        "id": "wlvvIDxYvFoH"
      },
      "outputs": [],
      "source": [
        "# Random Forest Classifier Classsification\n",
        "rf_wv = RandomForestClassifier()\n",
        "rf_wv.fit(X_train, y_train)\n",
        "print(classification_report(y_test, rf_wv.predict(X_test)))"
      ]
    },
    {
      "cell_type": "code",
      "execution_count": null,
      "metadata": {
        "id": "ijMhYeprvKo_"
      },
      "outputs": [],
      "source": [
        "# Final Classsification\n",
        "classifier = Model(X_ready, y, 0.3)\n",
        "classifier.classificationReport()"
      ]
    }
  ],
  "metadata": {
    "colab": {
      "provenance": [],
      "include_colab_link": true
    },
    "kernelspec": {
      "display_name": "Python 3",
      "name": "python3"
    },
    "language_info": {
      "codemirror_mode": {
        "name": "ipython",
        "version": 3
      },
      "file_extension": ".py",
      "mimetype": "text/x-python",
      "name": "python",
      "nbconvert_exporter": "python",
      "pygments_lexer": "ipython3",
      "version": "3.10.7"
    }
  },
  "nbformat": 4,
  "nbformat_minor": 0
}